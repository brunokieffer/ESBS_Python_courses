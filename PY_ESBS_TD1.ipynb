{
 "cells": [
  {
   "cell_type": "markdown",
   "metadata": {},
   "source": [
    "# ESBS Python courses TD 1\n",
    "\n",
    "## Around a piece of DNA\n",
    "\n",
    "This TD aims at showing you how DNA sequences can be manipulated using Python string objects. We will analyse a plasmide sequence named PBR322, one of the historical vector used in molecular biology. The following code will read a file on the disk names PBR322.seq that contains the vector sequence."
   ]
  },
  {
   "cell_type": "code",
   "execution_count": 68,
   "metadata": {
    "ExecuteTime": {
     "end_time": "2020-02-16T18:36:58.414103Z",
     "start_time": "2020-02-16T18:36:58.406282Z"
    }
   },
   "outputs": [],
   "source": [
    "## Read sequence from a file\n",
    "import re\n",
    "def read_DNA (fname = \"PBR322.seq\"):\n",
    "    f = open(fname) # Open a connection to a file\n",
    "    all_lines = f.readlines() # read all the lines contained in the file\n",
    "    f.close() # Close the file \n",
    "    base = re.compile(r\"([atgc]+)\")\n",
    "    sequence = \"\"\n",
    "    print (all_lines[0]) # Print the first line of the file\n",
    "    for line in all_lines[1:]: # Process all lines except the first one\n",
    "        wds = re.findall(base,line) # Find the motifs corresponding to a group of DNA bases\n",
    "        for seq in wds: # Concatenate segments of 10 bases\n",
    "            sequence = sequence + seq\n",
    "    print (\" {:d} bases read \".format(len(sequence)))\n",
    "    return sequence"
   ]
  },
  {
   "cell_type": "markdown",
   "metadata": {
    "ExecuteTime": {
     "end_time": "2020-02-16T18:13:03.904723Z",
     "start_time": "2020-02-16T18:13:03.897378Z"
    }
   },
   "source": [
    "## 1. Computing a complementary strand\n",
    "\n",
    "The string method **replace** can be used to compute efficiently a complementary strand by substituting A with T, C with G and so on. In theory, four lines should do the work. However, one realize that running the four substitutions sequentially will cause trouble because the A to T substitution will be reversed by the T to A.\n",
    "\n",
    "Modify the following script to get the correct result:\n",
    "\n",
    "    5'>  ttctcatgtttgacagctta\n",
    "    3'>  aagagtacaaactgtcgaat"
   ]
  },
  {
   "cell_type": "code",
   "execution_count": 72,
   "metadata": {
    "ExecuteTime": {
     "end_time": "2020-02-16T18:38:28.185640Z",
     "start_time": "2020-02-16T18:38:28.176580Z"
    }
   },
   "outputs": [
    {
     "name": "stdout",
     "output_type": "stream",
     "text": [
      "SQ   Sequence 4361 BP; 983 A; 1210 C; 1134 G; 1034 T; 0 other;\n",
      "\n",
      " 4361 bases read \n",
      "5'>  ttctcatgtttgacagctta\n",
      "3'>  ttctcttgtttgtctgcttt\n"
     ]
    }
   ],
   "source": [
    "seq = read_DNA (fname = \"PBR322.seq\")\n",
    "\n",
    "comp = seq.replace('t','a')\n",
    "comp = seq.replace('c','g')\n",
    "comp = seq.replace('g','c')\n",
    "comp = seq.replace('a','t')\n",
    "\n",
    "print (\"5'> \", seq[:20])\n",
    "print (\"3'> \", comp[:20])"
   ]
  },
  {
   "cell_type": "markdown",
   "metadata": {
    "ExecuteTime": {
     "end_time": "2020-02-16T20:49:18.453623Z",
     "start_time": "2020-02-16T20:49:18.447964Z"
    }
   },
   "source": [
    "## 2. Base composition statistics\n",
    "\n",
    "- Write a script to compute the % of each of the four base\n",
    "  The script should make use of a for loop\n",
    "  \n",
    "  Note : In the TD, many print statements will make use of the [format method](https://www.python-course.eu/python3_formatted_output.php) to controle exactly the way numbers and text are formatted.\n"
   ]
  },
  {
   "cell_type": "code",
   "execution_count": 99,
   "metadata": {
    "ExecuteTime": {
     "end_time": "2020-02-16T21:02:27.709196Z",
     "start_time": "2020-02-16T21:02:27.700998Z"
    }
   },
   "outputs": [
    {
     "name": "stdout",
     "output_type": "stream",
     "text": [
      "SQ   Sequence 4361 BP; 983 A; 1210 C; 1134 G; 1034 T; 0 other;\n",
      "\n",
      " 4361 bases read \n",
      " The pourcentage of a is :  22.54 %\n",
      " The pourcentage of t is :  23.71 %\n",
      " The pourcentage of g is :  26.00 %\n",
      " The pourcentage of c is :  27.75 %\n"
     ]
    }
   ],
   "source": [
    "# Solution \n",
    "seq = read_DNA (fname = \"PBR322.seq\")\n"
   ]
  },
  {
   "cell_type": "markdown",
   "metadata": {},
   "source": [
    "- What is the following script doing ?\n",
    "- Modify the script by adding a for statement such as the result is given for all four bases.\n"
   ]
  },
  {
   "cell_type": "code",
   "execution_count": 109,
   "metadata": {
    "ExecuteTime": {
     "end_time": "2020-02-16T21:09:27.505939Z",
     "start_time": "2020-02-16T21:09:27.500114Z"
    }
   },
   "outputs": [
    {
     "name": "stdout",
     "output_type": "stream",
     "text": [
      "aaaaaaaa\n"
     ]
    }
   ],
   "source": [
    "c = 1\n",
    "while seq.count('a'*c) > 0:\n",
    "    c = c + 1\n",
    "print ('a'*c)"
   ]
  },
  {
   "cell_type": "code",
   "execution_count": 110,
   "metadata": {
    "ExecuteTime": {
     "end_time": "2020-02-16T21:11:27.756809Z",
     "start_time": "2020-02-16T21:11:27.750482Z"
    }
   },
   "outputs": [
    {
     "name": "stdout",
     "output_type": "stream",
     "text": [
      "aaaaaaaa\n",
      "tttttttt\n",
      "ccccccc\n",
      "gggggg\n"
     ]
    }
   ],
   "source": [
    "\n"
   ]
  },
  {
   "cell_type": "markdown",
   "metadata": {},
   "source": [
    "## 3. Restriction enzymes\n",
    "\n",
    "Restriction enzymes are endonucleases able to recognize specifically sequence motifs and cut at specific location. The following exercises aim at showing how string methods could be used to generate restriction maps with little efforts.\n",
    "\n",
    "The enzymes we will use are :\n",
    "\n",
    "    BamH1 G/GATCC\n",
    "    HpaII C/CGG\n",
    "    MboI /GATC\n",
    "    Sau3A GATC/\n",
    "    SmaI CCC/GGG\n",
    "    AccI GT/CGAC\n",
    "    KpnI GGTAC/C\n",
    "    EcoRI G/AATTC\n",
    "    PstI CTGCA/G\n",
    "    BglII A/GATCT\n",
    "\n",
    "### A dictionary of Restriction Enzymes\n",
    "\n",
    "   * Create a dictionary **RE_dict** with the name of the above RE as keys and the recognized sequence as values.\n",
    "      Note : In the first version, the precise cutting point indicated by the character \"/\" will not be considered.\n",
    "      \n",
    "    \n",
    "   * Use the method [split](https://www.tutorialspoint.com/python3/string_split.htm) to generate a first restriction map of the PBR plasmide with the enzyme MboI. Beware that the plasmide is circular and tne string containing the sequence is not. The output should have the following form:\n",
    "    \n",
    "    \n",
    "    SQ   Sequence 4361 BP; 983 A; 1210 C; 1134 G; 1034 T; 0 other;\n",
    "    4361 bases read       \n",
    "    22 fragments generated by the enzyme MboI with following length :\n",
    "    4\n",
    "    7\n",
    "    8\n",
    "    11\n",
    "    13\n",
    "    "
   ]
  },
  {
   "cell_type": "code",
   "execution_count": null,
   "metadata": {},
   "outputs": [],
   "source": [
    "# Define here the dictionary\n",
    "\n",
    "\n",
    "# Reading the PBR322 sequence\n",
    "seq = read_DNA (fname = \"PBR322.seq\")\n",
    "\n",
    "# Complete the script\n",
    "\n",
    "re_map = \n",
    "print (\" {} gragments generated by the enzyme MboI with following length :\".format(len(re_map)-1))\n",
    "\n",
    "map_len = []\n",
    "\n",
    "\n",
    "for frag in map_len:\n",
    "    print(frag)"
   ]
  },
  {
   "cell_type": "markdown",
   "metadata": {},
   "source": [
    "## Restriction site version 2\n",
    "\n",
    "The script above does not provide the restriction fragment precisely, due to the property of the **split** method. Create a second dictionary that contains the cutting position such as:\n",
    "\n",
    "    RE_cut = {\"BamH1\" : 1, \"MboI\" : 0 , ...}\n",
    "\n",
    "And use this dictionary to get the correct fragment's length and sequences."
   ]
  },
  {
   "cell_type": "code",
   "execution_count": 157,
   "metadata": {
    "ExecuteTime": {
     "end_time": "2020-02-17T08:56:51.778538Z",
     "start_time": "2020-02-17T08:56:51.758126Z"
    }
   },
   "outputs": [
    {
     "name": "stdout",
     "output_type": "stream",
     "text": [
      "SQ   Sequence 4361 BP; 983 A; 1210 C; 1134 G; 1034 T; 0 other;\n",
      "\n",
      " 4361 bases read \n",
      " 1 fragments generated by the enzyme MboI with following length :\n",
      "4361\n"
     ]
    }
   ],
   "source": []
  },
  {
   "cell_type": "markdown",
   "metadata": {},
   "source": [
    "## 4. Searching open reading frames\n",
    "\n",
    "We will use the [find method](https://www.tutorialspoint.com/python/string_find.htm) to search all occurences of the start codon in the PBR322 sequence. \n",
    "\n",
    "The method fin only return the index of the first occurence of the string. To find them all, we need to perform the search as many times as needed using a [while loop](https://www.tutorialspoint.com/python/python_while_loop.htm).\n",
    "\n",
    "### Searching for START codon\n",
    "\n",
    "Modify the following script to return a list with all occurences of the atg codon.\n",
    "\n",
    "* How many atg codons are in the PBR sequence ?"
   ]
  },
  {
   "cell_type": "code",
   "execution_count": 77,
   "metadata": {
    "ExecuteTime": {
     "end_time": "2020-02-16T18:48:56.824688Z",
     "start_time": "2020-02-16T18:48:56.818350Z"
    }
   },
   "outputs": [
    {
     "name": "stdout",
     "output_type": "stream",
     "text": [
      "SQ   Sequence 4361 BP; 983 A; 1210 C; 1134 G; 1034 T; 0 other;\n",
      "\n",
      " 4361 bases read \n",
      "36\n"
     ]
    }
   ],
   "source": [
    "seq = read_DNA (fname = \"PBR322.seq\")\n",
    "start = 0\n",
    "start_pos = []\n",
    "while seq.find('atg',start) > 0:\n",
    "    "
   ]
  },
  {
   "cell_type": "markdown",
   "metadata": {},
   "source": [
    "### Searching for STOP codons\n",
    "\n",
    "Using the same procedure than above, search for all occurences of the three STOP codons:\n",
    "\n",
    "    TAA (ocre)\n",
    "    TAG (ambre)\n",
    "    TGA (opale)\n",
    "    \n",
    "Complete the following script to create a list named stop_pos that will contain the index of stop codons. The list should be sorted according the stop codons positions."
   ]
  },
  {
   "cell_type": "code",
   "execution_count": null,
   "metadata": {},
   "outputs": [],
   "source": [
    "seq = read_DNA (fname = \"PBR322.seq\")\n",
    "stop_pos = []\n",
    "for stop in ['taa', 'tag', 'tga']:\n"
   ]
  },
  {
   "cell_type": "markdown",
   "metadata": {},
   "source": [
    "### A method (algorithm) to find open reading frames\n",
    "\n",
    "We propose to implement the following algorithme to identify the ORF.\n",
    "\n",
    "for every start codon, look through the list of stop codons (placed after the start position) until one stop is found in the same reading frame.\n",
    "\n",
    "- Modify the following script to return a dictionary that contains the position of the start codon as key, and the length of the corresponding ORF as value\n",
    "\n",
    "- Complete the script to print the ten longuest ORF in decreasing order, together with the corresponding sequences\n",
    "\n",
    "- Put the sequences of these ORF in a list named orf_list\n",
    "\n",
    "Note : A dictionary can be sorted using the python command sorted :\n",
    "\n",
    "    # if d is a dictionary:\n",
    "    for key in sorted(d, key=d.get, reverse=True):\n",
    "        print d[key]\n"
   ]
  },
  {
   "cell_type": "code",
   "execution_count": 129,
   "metadata": {
    "ExecuteTime": {
     "end_time": "2020-02-16T21:50:39.150001Z",
     "start_time": "2020-02-16T21:50:39.144892Z"
    }
   },
   "outputs": [],
   "source": [
    "for start in start_pos:\n",
    "    for stop in stop_pos:\n",
    "        if stop > start and (stop-start) % 3 == 0:\n",
    "            # print (stop-start)\n",
    "            break"
   ]
  },
  {
   "cell_type": "markdown",
   "metadata": {},
   "source": [
    "## 4. Translation\n",
    "\n",
    "The dictionary gcode below contains the genetic code. Write some python lines to perform the translation of the ten longuest orf found in the PBR322 sequence.\n",
    "\n",
    "Using BLAST, could you identify the protein ?"
   ]
  },
  {
   "cell_type": "code",
   "execution_count": 133,
   "metadata": {
    "ExecuteTime": {
     "end_time": "2020-02-16T22:04:13.614915Z",
     "start_time": "2020-02-16T22:04:13.604648Z"
    }
   },
   "outputs": [],
   "source": [
    "gcode = {\"TTT\":\"F\",\"TTC\":\"F\",\"TTA\":\"L\",\"TTG\":\"L\",\"TCT\":\"S\",\"TCC\":\"S\",\n",
    "\t\"TCA\":\"S\",\"TCG\":\"S\",\"TAT\":\"Y\",\"TAC\":\"Y\",\"TAA\":\"*\",\"TAG\":\"*\",\n",
    "\t\"TGT\":\"C\",\"TGC\":\"C\",\"TGA\":\"*\",\"TGG\":\"W\",\"CTT\":\"L\",\"CTC\":\"L\",\n",
    "\t\"CTA\":\"L\",\"CTG\":\"L\",\"CCT\":\"P\",\"CCC\":\"P\",\"CCA\":\"P\",\"CCG\":\"P\",\n",
    "\t\"CAT\":\"H\",\"CAC\":\"H\",\"CAA\":\"Q\",\"CAG\":\"Q\",\"CGT\":\"R\",\"CGC\":\"R\",\n",
    "\t\"CGA\":\"R\",\"CGG\":\"R\",\"ATT\":\"I\",\"ATC\":\"I\",\"ATA\":\"I\",\"ATG\":\"M\",\n",
    "\t\"ACT\":\"T\",\"ACC\":\"T\",\"ACA\":\"T\",\"ACG\":\"T\",\"AAT\":\"N\",\"AAC\":\"N\",\n",
    "\t\"AAA\":\"K\",\"AAG\":\"K\",\"AGT\":\"S\",\"AGC\":\"S\",\"AGA\":\"R\",\"AGG\":\"R\",\n",
    "\t\"GTT\":\"V\",\"GTC\":\"V\",\"GTA\":\"V\",\"GTG\":\"V\",\"GCT\":\"A\",\"GCC\":\"A\",\n",
    "\t\"GCA\":\"A\",\"GCG\":\"A\",\"GAT\":\"D\",\"GAC\":\"D\",\"GAA\":\"E\",\"GAG\":\"E\",\n",
    "\t\"GGT\":\"G\",\"GGC\":\"G\",\"GGA\":\"G\",\"GGG\":\"G\"}"
   ]
  },
  {
   "cell_type": "code",
   "execution_count": 137,
   "metadata": {
    "ExecuteTime": {
     "end_time": "2020-02-16T22:06:13.030793Z",
     "start_time": "2020-02-16T22:06:13.022009Z"
    }
   },
   "outputs": [
    {
     "name": "stdout",
     "output_type": "stream",
     "text": [
      "['MKSNNALIVILGTVTLDAVGIGLVMPVLPGLLRDIVHSDSIASHYGVLLALYALMQFLCAPVLGALSDRFGRRPVLLASLLGATIDYAIMATTPVLWILYAGRIVAGITGATGAVAGAYIADITDGEDRARHFGLMSACFGVGMVAGPVAGGLLGAISLHAPFLAAAVLNGLNLLLGCFLMQESHKGERRPMPLRAFNPVSSFRWARGMTIVAALMTVFFIMQLVGQVPAALWVIFGEDRFRWSATMIGLSLAVFGILHALAQAFVTGPATKRFGEKQAIIAGMAADALGYVLLAFATRGWMAFPIMILLASGGIGMPALQAMLSRQVDDDHQGQLQGSLAALTSLTSITGPLIVTAIYAASASTWNGLAWIVGAALYLVCLPALRRGAWSRATST*', 'MPVLPGLLRDIVHSDSIASHYGVLLALYALMQFLCAPVLGALSDRFGRRPVLLASLLGATIDYAIMATTPVLWILYAGRIVAGITGATGAVAGAYIADITDGEDRARHFGLMSACFGVGMVAGPVAGGLLGAISLHAPFLAAAVLNGLNLLLGCFLMQESHKGERRPMPLRAFNPVSSFRWARGMTIVAALMTVFFIMQLVGQVPAALWVIFGEDRFRWSATMIGLSLAVFGILHALAQAFVTGPATKRFGEKQAIIAGMAADALGYVLLAFATRGWMAFPIMILLASGGIGMPALQAMLSRQVDDDHQGQLQGSLAALTSLTSITGPLIVTAIYAASASTWNGLAWIVGAALYLVCLPALRRGAWSRATST*', 'MQFLCAPVLGALSDRFGRRPVLLASLLGATIDYAIMATTPVLWILYAGRIVAGITGATGAVAGAYIADITDGEDRARHFGLMSACFGVGMVAGPVAGGLLGAISLHAPFLAAAVLNGLNLLLGCFLMQESHKGERRPMPLRAFNPVSSFRWARGMTIVAALMTVFFIMQLVGQVPAALWVIFGEDRFRWSATMIGLSLAVFGILHALAQAFVTGPATKRFGEKQAIIAGMAADALGYVLLAFATRGWMAFPIMILLASGGIGMPALQAMLSRQVDDDHQGQLQGSLAALTSLTSITGPLIVTAIYAASASTWNGLAWIVGAALYLVCLPALRRGAWSRATST*', 'MATTPVLWILYAGRIVAGITGATGAVAGAYIADITDGEDRARHFGLMSACFGVGMVAGPVAGGLLGAISLHAPFLAAAVLNGLNLLLGCFLMQESHKGERRPMPLRAFNPVSSFRWARGMTIVAALMTVFFIMQLVGQVPAALWVIFGEDRFRWSATMIGLSLAVFGILHALAQAFVTGPATKRFGEKQAIIAGMAADALGYVLLAFATRGWMAFPIMILLASGGIGMPALQAMLSRQVDDDHQGQLQGSLAALTSLTSITGPLIVTAIYAASASTWNGLAWIVGAALYLVCLPALRRGAWSRATST*', 'MSACFGVGMVAGPVAGGLLGAISLHAPFLAAAVLNGLNLLLGCFLMQESHKGERRPMPLRAFNPVSSFRWARGMTIVAALMTVFFIMQLVGQVPAALWVIFGEDRFRWSATMIGLSLAVFGILHALAQAFVTGPATKRFGEKQAIIAGMAADALGYVLLAFATRGWMAFPIMILLASGGIGMPALQAMLSRQVDDDHQGQLQGSLAALTSLTSITGPLIVTAIYAASASTWNGLAWIVGAALYLVCLPALRRGAWSRATST*', 'MVAGPVAGGLLGAISLHAPFLAAAVLNGLNLLLGCFLMQESHKGERRPMPLRAFNPVSSFRWARGMTIVAALMTVFFIMQLVGQVPAALWVIFGEDRFRWSATMIGLSLAVFGILHALAQAFVTGPATKRFGEKQAIIAGMAADALGYVLLAFATRGWMAFPIMILLASGGIGMPALQAMLSRQVDDDHQGQLQGSLAALTSLTSITGPLIVTAIYAASASTWNGLAWIVGAALYLVCLPALRRGAWSRATST*', 'MQESHKGERRPMPLRAFNPVSSFRWARGMTIVAALMTVFFIMQLVGQVPAALWVIFGEDRFRWSATMIGLSLAVFGILHALAQAFVTGPATKRFGEKQAIIAGMAADALGYVLLAFATRGWMAFPIMILLASGGIGMPALQAMLSRQVDDDHQGQLQGSLAALTSLTSITGPLIVTAIYAASASTWNGLAWIVGAALYLVCLPALRRGAWSRATST*', 'MPLRAFNPVSSFRWARGMTIVAALMTVFFIMQLVGQVPAALWVIFGEDRFRWSATMIGLSLAVFGILHALAQAFVTGPATKRFGEKQAIIAGMAADALGYVLLAFATRGWMAFPIMILLASGGIGMPALQAMLSRQVDDDHQGQLQGSLAALTSLTSITGPLIVTAIYAASASTWNGLAWIVGAALYLVCLPALRRGAWSRATST*', 'MTIVAALMTVFFIMQLVGQVPAALWVIFGEDRFRWSATMIGLSLAVFGILHALAQAFVTGPATKRFGEKQAIIAGMAADALGYVLLAFATRGWMAFPIMILLASGGIGMPALQAMLSRQVDDDHQGQLQGSLAALTSLTSITGPLIVTAIYAASASTWNGLAWIVGAALYLVCLPALRRGAWSRATST*', 'MTVFFIMQLVGQVPAALWVIFGEDRFRWSATMIGLSLAVFGILHALAQAFVTGPATKRFGEKQAIIAGMAADALGYVLLAFATRGWMAFPIMILLASGGIGMPALQAMLSRQVDDDHQGQLQGSLAALTSLTSITGPLIVTAIYAASASTWNGLAWIVGAALYLVCLPALRRGAWSRATST*']\n"
     ]
    }
   ],
   "source": [
    "prot_list = []\n",
    "for sequence in orf_list:\n",
    "\n",
    "    \n",
    "print(prot_list)"
   ]
  },
  {
   "cell_type": "markdown",
   "metadata": {},
   "source": [
    "## Conclusion\n",
    "\n",
    "Read carefully the sequences found by our algorithme. What can we notice ?\n",
    "\n",
    "Propose a correction to get a more effective code.\n"
   ]
  },
  {
   "cell_type": "code",
   "execution_count": null,
   "metadata": {},
   "outputs": [],
   "source": []
  }
 ],
 "metadata": {
  "kernelspec": {
   "display_name": "Python 3",
   "language": "python",
   "name": "python3"
  },
  "language_info": {
   "codemirror_mode": {
    "name": "ipython",
    "version": 3
   },
   "file_extension": ".py",
   "mimetype": "text/x-python",
   "name": "python",
   "nbconvert_exporter": "python",
   "pygments_lexer": "ipython3",
   "version": "3.7.3"
  }
 },
 "nbformat": 4,
 "nbformat_minor": 2
}
