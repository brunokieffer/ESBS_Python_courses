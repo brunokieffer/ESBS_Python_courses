{
 "cells": [
  {
   "cell_type": "markdown",
   "metadata": {},
   "source": [
    "<font size=\"+4\">\n",
    "    <CENTER>Data processing with Python </CENTER>\n",
    "</font>\n",
    "<hr>   \n",
    "<font size=\"+2\">\n",
    "    <CENTER> B. Kieffer ESBS 2022</CENTER>\n",
    "</font>\n",
    "<hr> \n",
    "<font size=\"+2\">\n",
    "    <CENTER> Notebook 3</CENTER>\n",
    "</font>\n",
    "\n"
   ]
  },
  {
   "cell_type": "markdown",
   "metadata": {},
   "source": [
    "# 6. Making Decisions: the if statement\n",
    "\n",
    "A fundamental mechanism in programming involves the ability of a computer to \"make decisions\", which means that a set of instructions will be executed upon some conditions. All computer language provide this mechanism called $conditional$ $execution$. The condition is a $boolean$ $expression$ that return either **True** or **False**. The general form of this mechanism is :\n",
    "\n",
    "    if <boolean expression> : \n",
    "        instruction 1  \n",
    "        instruction 2 \n",
    "    else :\n",
    "        instruction 3\n",
    "    instruction 4\n",
    "\n",
    "instruction 1 and 2 will be executed if the boolean expression returns **True** while instruction 3 will be executed if the boolean expression return **False**. instruction 4 will be executed whatever the result of the boolean expression is.\n",
    "\n",
    "Example:"
   ]
  },
  {
   "cell_type": "code",
   "execution_count": 2,
   "metadata": {},
   "outputs": [
    {
     "name": "stdout",
     "output_type": "stream",
     "text": [
      " Enter a integer number 15\n",
      "x is odd\n"
     ]
    }
   ],
   "source": [
    "x = int(input(' Enter a integer number '))\n",
    "if x%2 == 0:\n",
    "    print('x is even')\n",
    "else:\n",
    "    print('x is odd')"
   ]
  },
  {
   "cell_type": "markdown",
   "metadata": {},
   "source": [
    "## The Boolean type\n",
    "\n",
    "A Boolean variable can take only two values: $true$ or $false$ (called **True** or **False**, the capital is important). The Boolean value is often the result of an expression that compares two objects. To detect whether two values are identical, use the $==$ **operator**. Note that the use of the double equal sign is used to distinguish a comparison operation from a value assignment. The examples below illustrate the use of the comparison operators.\n",
    "\n",
    "Comparaison operators:  \n",
    "\n",
    "    * x == y \t\t\t\t# x is equal to y\n",
    "    * x != y                # x is different from y\n",
    "    * x > y \t\t\t\t# x is greater than y\n",
    "    * x < y \t\t\t\t# x is smaller than y\n",
    "    * x >= y \t\t\t\t# x is greater or equal than y\n",
    "    * x <= y \t\t\t\t# x is smaller or equal than  y\n",
    "\n",
    "Note the difference between the two symbols that both represent an operator:\n",
    "    \n",
    "    = is an assignment operator\n",
    "    == is a comparison operator\n",
    "    \n",
    "Boolean operators (and, or) are used to perform operations between boolean objects:\n",
    "(if 1 represents True and 0 represents False)\n",
    "\n",
    "*   and     \n",
    ">[1 and 1 -> 1, 0 and 1 -> 0, 1 and 0 -> 0, 0 and 0 -> 0]\n",
    "*   or      \n",
    ">[1  or 1 -> 1, 0  or 1 -> 1, 1  or 0 -> 1, 0  or 0 -> 0]\n",
    "*   not     \n",
    ">[not 1 -> 0, not 0 -> 1]\n",
    "\n",
    "### Example of nested conditions\n",
    "\n",
    "We design a game that consists in guessing a number known (in principle) only by the program. The player should guess a number and will get one of the three replies: 1) you won, 2) too small, 3) too large."
   ]
  },
  {
   "cell_type": "code",
   "execution_count": 22,
   "metadata": {},
   "outputs": [
    {
     "name": "stdout",
     "output_type": "stream",
     "text": [
      " Enter a number between 0 and 100 :50\n",
      "Too large\n"
     ]
    }
   ],
   "source": [
    "a = 34\n",
    "guess = int(input(\" Enter a number between 0 and 100 :\"))\n",
    "if guess == a :\n",
    "    print(\"Congratulation: you won !\")\n",
    "elif guess > a :\n",
    "    print(\"Too large\")\n",
    "else:\n",
    "    print(\"Too small\")"
   ]
  },
  {
   "cell_type": "markdown",
   "metadata": {},
   "source": [
    "# 7. The while loop\n",
    "\n",
    "We have introduced with the **for** statement a way to enumerate the elements of a pre-existing list to perform a repetitive task. Sometime, this list does not exist and the repetitive task has to be performed until a given result is obtained or until a condition is met. A boolean expression is therefore evaluated prior every iteration. This is the purpose of the **while** loop.\n",
    "\n",
    "@ You can complete this topic with the [French Swinnen course Chapter 4](https://python.developpez.com/cours/TutoSwinnen/?page=page_6)\n",
    "\n",
    "The example of the multiplication table could be re-written using the while statement:"
   ]
  },
  {
   "cell_type": "code",
   "execution_count": 6,
   "metadata": {},
   "outputs": [
    {
     "name": "stdout",
     "output_type": "stream",
     "text": [
      "1 x 5 =  5\n",
      "2 x 5 =  10\n",
      "3 x 5 =  15\n",
      "4 x 5 =  20\n",
      "5 x 5 =  25\n",
      "6 x 5 =  30\n",
      "7 x 5 =  35\n",
      "8 x 5 =  40\n",
      "9 x 5 =  45\n",
      "10 x 5 =  50\n"
     ]
    }
   ],
   "source": [
    "a = 1\n",
    "while a <= 10: # This boolean expression is evaluated prior each iteration\n",
    "    print(a, \"x 5 = \",a*5)\n",
    "    a = a + 1  # In a while loop, we sometime need to count the number of iterations"
   ]
  },
  {
   "cell_type": "markdown",
   "metadata": {},
   "source": [
    "# 8. More on the for loops\n",
    "\n",
    "We have introduced the for loops as a tool to work with lists, providing each element of the list, one by one, for individual processing. In this case, the iteration number is implicit, and not accessible as a variable within the loop, unless a counter is explicitely written as in the while loop above:"
   ]
  },
  {
   "cell_type": "code",
   "execution_count": 8,
   "metadata": {},
   "outputs": [
    {
     "name": "stdout",
     "output_type": "stream",
     "text": [
      "the following loop will be iterated 10 times\n",
      "andre   \t earns 1000 euros/month\n",
      "Brigitte   \t earns 2000 euros/month\n",
      "camille   \t earns 3000 euros/month\n",
      "delphine   \t earns 4000 euros/month\n",
      "emile   \t earns 5000 euros/month\n",
      "franz   \t earns 6000 euros/month\n",
      "hector   \t earns 7000 euros/month\n",
      "ignace   \t earns 8000 euros/month\n",
      "jeanne   \t earns 9000 euros/month\n",
      "karine   \t earns 10000 euros/month\n"
     ]
    }
   ],
   "source": [
    "names = [\"andre\", \"Brigitte\", \"camille\", \"delphine\", \"emile\", \"franz\", \"hector\", \"ignace\", \"jeanne\", \"karine\"]\n",
    "print (\"the following loop will be iterated {:d} times\".format(len(names)))\n",
    "\n",
    "count = 1\n",
    "for n in names:\n",
    "    print (\"{:s}   \\t earns {:d} euros/month\".format(n,count*1000))\n",
    "    count = count + 1 # count += 1 is a short writing for count = count + 1"
   ]
  },
  {
   "cell_type": "code",
   "execution_count": 9,
   "metadata": {},
   "outputs": [
    {
     "name": "stdout",
     "output_type": "stream",
     "text": [
      "the following loop will be iterated 10 times\n",
      "andre   \t earns 1000 euros/month\n",
      "Brigitte   \t earns 2000 euros/month\n",
      "camille   \t earns 3000 euros/month\n",
      "delphine   \t earns 4000 euros/month\n",
      "emile   \t earns 5000 euros/month\n",
      "franz   \t earns 6000 euros/month\n",
      "hector   \t earns 7000 euros/month\n",
      "ignace   \t earns 8000 euros/month\n",
      "jeanne   \t earns 9000 euros/month\n",
      "karine   \t earns 10000 euros/month\n"
     ]
    }
   ],
   "source": [
    "# A shorter version of previous script using the enumerate function\n",
    "# What is the difference ?\n",
    "\n",
    "names = [\"andre\", \"Brigitte\", \"camille\", \"delphine\", \"emile\", \"franz\", \"hector\", \"ignace\", \"jeanne\", \"karine\"]\n",
    "print (\"the following loop will be iterated {:d} times\".format(len(names)))\n",
    "\n",
    "for count,n in enumerate(names):\n",
    "    print (\"{:s}   \\t earns {:d} euros/month\".format(n,(count+1)*1000))"
   ]
  },
  {
   "cell_type": "markdown",
   "metadata": {},
   "source": [
    "### Intricated loops\n",
    "\n",
    "Several loops can be intricated to achieve more complex tasks. The example below shows how to get multiplication tables using two intricated loops."
   ]
  },
  {
   "cell_type": "code",
   "execution_count": 27,
   "metadata": {},
   "outputs": [
    {
     "name": "stdout",
     "output_type": "stream",
     "text": [
      "1 x 1 =  1   \n",
      "1 x 2 =  2   \n",
      "1 x 3 =  3   \n",
      "2 x 1 =  2   \n",
      "2 x 2 =  4   \n",
      "2 x 3 =  6   \n",
      "3 x 1 =  3   \n",
      "3 x 2 =  6   \n",
      "3 x 3 =  9   \n",
      "4 x 1 =  4   \n",
      "4 x 2 =  8   \n",
      "4 x 3 = 12   \n",
      "5 x 1 =  5   \n",
      "5 x 2 = 10   \n",
      "5 x 3 = 15   \n",
      "6 x 1 =  6   \n",
      "6 x 2 = 12   \n",
      "6 x 3 = 18   \n",
      "7 x 1 =  7   \n",
      "7 x 2 = 14   \n",
      "7 x 3 = 21   \n",
      "8 x 1 =  8   \n",
      "8 x 2 = 16   \n",
      "8 x 3 = 24   \n",
      "9 x 1 =  9   \n",
      "9 x 2 = 18   \n",
      "9 x 3 = 27   \n"
     ]
    }
   ],
   "source": [
    "for i in range(1,10):\n",
    "    for j in range(1,4):\n",
    "        print(\"{:1d} x {:1d} = {:2d}   \".format(i,j,i*j))"
   ]
  },
  {
   "cell_type": "markdown",
   "metadata": {},
   "source": [
    "### Exercise:\n",
    "\n",
    "Change the code in order to get the following result:\n",
    "\n",
    "    1 x 1 =  1   2 x 1 =  2   3 x 1 =  3   4 x 1 =  4   5 x 1 =  5   \n",
    "    1 x 2 =  2   2 x 2 =  4   3 x 2 =  6   4 x 2 =  8   5 x 2 = 10   \n",
    "    1 x 3 =  3   2 x 3 =  6   3 x 3 =  9   4 x 3 = 12   5 x 3 = 15   \n",
    "    1 x 4 =  4   2 x 4 =  8   3 x 4 = 12   4 x 4 = 16   5 x 4 = 20   \n",
    "    1 x 5 =  5   2 x 5 = 10   3 x 5 = 15   4 x 5 = 20   5 x 5 = 25   \n",
    "    1 x 6 =  6   2 x 6 = 12   3 x 6 = 18   4 x 6 = 24   5 x 6 = 30   \n",
    "    1 x 7 =  7   2 x 7 = 14   3 x 7 = 21   4 x 7 = 28   5 x 7 = 35   \n",
    "    1 x 8 =  8   2 x 8 = 16   3 x 8 = 24   4 x 8 = 32   5 x 8 = 40   \n",
    "    1 x 9 =  9   2 x 9 = 18   3 x 9 = 27   4 x 9 = 36   5 x 9 = 45   \n",
    "    \n",
    "To do this, you will have to suppress the automatic new line character that is automatically added to the end of a line by the print() command, using the $end$ parameter:\n",
    "\n",
    "    print(\"test1\",end=\"\")\n",
    "    print(\"test2\",end=\"\")\n",
    "    \n",
    "(by default, the end parameter is \"\\n\" (new line char), specifying any other value will replace the new_line character by the one given as parameter).\n",
    "\n",
    "In the example above, we used the method format() of a string, to get a controlled output. The format method provides a very rich panel of possibilities to format texts and numbers. To get a glimpse of the possibilities and understand the basics of the string formatting, please refer to the [Python 3 manual](https://docs.python.org/3/library/string.html#formatstrings) related to this topic."
   ]
  },
  {
   "cell_type": "markdown",
   "metadata": {},
   "source": [
    "# Conclusions of Notebook 3\n",
    "\n",
    "- The program execution may be conditionned by the result of Boolean expressions (with if statement) \n",
    "- A boolean expression returns one of the two values : True or False \n",
    "- By contrast with the for loop, the while loop is used when the number of iterations is not known a priori\n",
    "- Different loops may be intricated to perform more complex tasks"
   ]
  },
  {
   "cell_type": "code",
   "execution_count": null,
   "metadata": {},
   "outputs": [],
   "source": []
  }
 ],
 "metadata": {
  "anaconda-cloud": {},
  "kernelspec": {
   "display_name": "Python 3",
   "language": "python",
   "name": "python3"
  },
  "language_info": {
   "codemirror_mode": {
    "name": "ipython",
    "version": 3
   },
   "file_extension": ".py",
   "mimetype": "text/x-python",
   "name": "python",
   "nbconvert_exporter": "python",
   "pygments_lexer": "ipython3",
   "version": "3.7.3"
  },
  "nbTranslate": {
   "displayLangs": [
    "*"
   ],
   "hotkey": "alt-t",
   "langInMainMenu": true,
   "sourceLang": "en",
   "targetLang": "fr",
   "useGoogleTranslate": true
  },
  "toc": {
   "base_numbering": 1,
   "nav_menu": {
    "height": "177px",
    "width": "274px"
   },
   "number_sections": false,
   "sideBar": true,
   "skip_h1_title": false,
   "title_cell": "Table of Contents",
   "title_sidebar": "Contents",
   "toc_cell": false,
   "toc_position": {},
   "toc_section_display": true,
   "toc_window_display": false
  }
 },
 "nbformat": 4,
 "nbformat_minor": 1
}
