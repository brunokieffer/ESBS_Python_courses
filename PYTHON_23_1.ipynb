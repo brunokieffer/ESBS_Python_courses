{
 "cells": [
  {
   "cell_type": "markdown",
   "metadata": {},
   "source": [
    "<font size=\"+4\">\n",
    "    <CENTER>Data processing with Python </CENTER>\n",
    "</font>\n",
    "<hr>   \n",
    "<font size=\"+2\">\n",
    "    <CENTER> B. Kieffer ESBS 2022</CENTER>\n",
    "</font>\n",
    "<hr>   \n",
    "<font size=\"+2\">\n",
    "    <CENTER> Notebook 1</CENTER>\n",
    "</font>\n"
   ]
  },
  {
   "cell_type": "markdown",
   "metadata": {
    "lang": "en"
   },
   "source": [
    "# 0. Introduction"
   ]
  },
  {
   "cell_type": "markdown",
   "metadata": {},
   "source": [
    "The information technology and communication have dramatically changed society, our environment and work practices. In our society, all information is stored as numbers stored on hard drives or circulating through computer networks. We interact with this information through softwares like web browsers, text editors, video etc ... This is also true for the engineers and scientists who measure, analyze and communicate their results through a chain different software. In general, these programs are sufficient to cover most of the current needs. However, with the development of these softwares, the distance between the user and his data is growing and, often, softwares tend to restrict user's freedom, power and creativity.  \n",
    "For citizens of the digital age, or modern science, a way to retrieve controle of their information is to take advantage of developments in information technologies and learn how to use powerful open softwares that are currently available. The purpose of this course is to introduce with an active approach based on the PYTHON language. This language developed by [Guido van Rossum](http://fr.wikipedia.org/wiki/Guido_van_Rossum) from 1980 possesses qualities that explain its rapid adoption by the scientific world. In biology, python is used in molecular modeling software (pymol, xplor ...), bioinformatics (biopython) analysis and high throughput data analysis (transcriptomic, genomic, etc ...).  \n",
    "PYHON features :  \n",
    "\n",
    "* simplicity (it uses thirty keywords and minimal punctuation)   \n",
    "* universality (PYTHON is available on PC, linux, mac)  \n",
    "* modularity (many libraries can extend the capabilities of the language)   \n",
    "* efficiency (performance written in python programs are comparable to other languages like C)   \n",
    "\n",
    "## Practical organisation of the course\n",
    "\n",
    "The objective of this course is to provide a pragmatic approach to programming in PYTHON, for writing simple scripts and exploit scientific libraries for analysis and data representation (like matplotlib). The focus will be on two types of information: text and image. We will use a PYTHON facility that allows you to write scripts through a web browser, using the ipython interface. The course will be distributed to you as ipython notebooks, (text files with .ipynb extension). You are advised to install a scientific PYTHON distribution on your personnal computer if you have one. Scientific PYTHON is installed on all ESBS computers.  \n",
    "\n",
    "The proposed approach is inspired by a very comprehensive course available on the website [developpez.com](http://python.developpez.com/cours/TutoSwinnen/), French translation of \"How to think like a computer scientist\" by Allen B. Downey, and Chris Meyers Jeffrey Elkner. Wherever possible, the examples that we propose will be directly related to applications in biology. A good and short introduction on the use of PYTHON in biology can be found in the paper of [Sebastian Bassi published in PLoS Computational Biology](http://www.ploscompbiol.org/article/info%3Adoi%2F10.1371%2Fjournal.pcbi.0030199). After each courses, you will be assigned to do home assignments (exercises) for the next session. Small controles will be organized to follow individual progression througout the course duration.\n",
    "\n",
    "To follow the course, you have 2 options:\n",
    "\n",
    "1. Install Jupyter on your computer using the [Anaconda website](https://www.anaconda.com/products/individual)\n",
    "\n",
    "   A french tutorial is provided by [Openclassroom](https://openclassrooms.com/fr/courses/4452741-decouvrez-les-librairies-python-pour-la-data-science/5559646-installez-jupyter-sur-votre-propre-ordinateur)\n",
    "   \n",
    "   \n",
    "2. For students equiped with tablets (and not computers), you can use [Google colab](https://colab.research.google.com/notebooks/intro.ipynb#recent=true) after having requestd a Google account. Note Android cell phone users have already a Google account.\n",
    "\n",
    "\n"
   ]
  },
  {
   "cell_type": "markdown",
   "metadata": {},
   "source": [
    "# 1. Variables, Objects and Time"
   ]
  },
  {
   "cell_type": "markdown",
   "metadata": {},
   "source": [
    "In order to work on data, it is necessary to store it within the computer memory at a precise location (called address) and be able to retrieve it thanks to a **name**. In PYTHON, all data are stored within **objects** identified by a given name and **type**.  \n",
    "\n",
    "An object correspond to the data and the various programs to view or modify them. For instance, to handle a data as simple as a integer number, we can use an object of type integer (other language will call that a variable). This object will know how to perform addition, euclidian division or will allow to change the content of the object.\n",
    "\n",
    "A name is a series of characters that identifies the object unambiguously. A number of names are reserved by the language, such as ```and, for``` and should therefore be avoided. PYTHON differs from other languages by its very few number of [commands](http://python.developpez.com/cours/TutoSwinnen/?page=Chapitre2#L2.3). Usually a name is composed of uppercase and/or lowercase letters (Note: a is different from A PYTHON) or numbers. Punctuation characters, space or letters with accent are excluded.\n",
    "\n",
    "To \"enter\" information in an object, the sign ***=*** is used. The name is placed on the left of the $=$ sign and the content is placed on the right. This content can be a mathematical expression (as adding two numbers). In this case, the interpreter PYTHON calculates the result of the expression **first**, and **then** assigns the result to the variable. This is where the **time** is involved since the same object may not have the same value while the $=$ is executed by the program. This is also why the statement:  \n",
    "\n",
    "a=a+1\n",
    "\n",
    "has a meaning for a computer, but not for a mathematician !\n",
    "In this example, the + character is the addition operator. It adds one to the content of a, if a is a number (the type of a should be compatible with a number). After the addition, the result is **transfered** back into a. \n",
    "\n",
    "## Some examples:"
   ]
  },
  {
   "cell_type": "code",
   "execution_count": 4,
   "metadata": {
    "ExecuteTime": {
     "end_time": "2021-01-24T14:33:16.475708Z",
     "start_time": "2021-01-24T14:33:16.467980Z"
    }
   },
   "outputs": [
    {
     "name": "stdout",
     "output_type": "stream",
     "text": [
      "Result : 2\n"
     ]
    }
   ],
   "source": [
    "# Here I want to talk about object names and types \n",
    "a=1\n",
    "a=a+1\n",
    "print('Result :',a)\n",
    "b = dir(a)\n",
    "# Complete below to get the result of the dir() command"
   ]
  },
  {
   "cell_type": "markdown",
   "metadata": {},
   "source": [
    "The $dir()$ command allows to list all the names defined in the **name space**. When an object is given to the dir() command as an **argument**, then it returns the **methods** that are \"inside\" this object. The **methods** are utility programs that are provided with the object in order to facilitate its handling.  \n",
    "\n",
    "## Data Types\n",
    "\n",
    "An object contains digital information as a sequence of binary digits (Bits) (0 or 1) grouped by 8 (one byte). Words are composed of several bytes. The same sequence of identical bytes on the computer memory can either code for an integer, a real number, or characters (text), or a portion of an image etc ... It is therefore always necessary to know the **type** of data corresponding to a given name. In PYTHON, the definition of the data type is implicit, ie it depends on the way the variable is initialized. As demonstrated below, the data type will determine the outcome of expressions.\n",
    "\n",
    "In the examples below, we show :\n",
    "\n",
    "* that the type of an object can be obtained by the $type()$ command\n",
    "* that several commands are available to convert a type to another one\n",
    "* that characters are encoded as [ASCII](http://www.microelec.patricklecoq.fr/micro/asciietendu.html) code\n",
    "\n",
    "@ You can complete this topic with the [French Swinnen course Chapter 2](https://python.developpez.com/cours/TutoSwinnen/?page=page_4#L2)"
   ]
  },
  {
   "cell_type": "code",
   "execution_count": 1,
   "metadata": {
    "ExecuteTime": {
     "end_time": "2020-02-05T08:40:17.105029Z",
     "start_time": "2020-02-05T08:40:17.097312Z"
    }
   },
   "outputs": [
    {
     "name": "stdout",
     "output_type": "stream",
     "text": [
      "<class 'int'> 65\n",
      "<class 'int'> 65\n",
      "66\n",
      "<class 'float'> 65.0\n"
     ]
    }
   ],
   "source": [
    "a=0x41\n",
    "print(type(a),a)\n",
    "b=a\n",
    "print(type(b),b)\n",
    "b=b+1\n",
    "print(b)\n",
    "c=float(a)\n",
    "print(type(c),c)"
   ]
  },
  {
   "cell_type": "markdown",
   "metadata": {},
   "source": [
    "## Numerical types\n",
    "\n",
    "The first basic types are **int** and **float** that are coding for integer and floating point numbers, respectively. The classical arithmetic operators do apply on these two types of objects. The functions int() and float() are used to convert to the type int and float, respectively, other type of objects.\n",
    "\n",
    "### Questions\n",
    "\n",
    "* What is the largest number that can be encoded by a int object ?\n",
    "* What is the largest number that can be encoded by a float object ?\n",
    "* What is the type of the addition between an int and a float objects ?"
   ]
  },
  {
   "cell_type": "code",
   "execution_count": 31,
   "metadata": {},
   "outputs": [
    {
     "name": "stdout",
     "output_type": "stream",
     "text": [
      "0 <class 'int'>\n",
      "1.0 <class 'float'>\n",
      "1200\n"
     ]
    }
   ],
   "source": [
    "a= int(1/2)\n",
    "print (a, type(a))\n",
    "b = float(1)\n",
    "print (b,type(b))\n",
    "a = int(1.2e3)\n",
    "print(a)"
   ]
  },
  {
   "cell_type": "markdown",
   "metadata": {},
   "source": [
    "# 2. Working with text\n",
    "\n",
    "## The type string (str)\n",
    "\n",
    "The characters are encoded from numbers using the ASCII code. An object containing characters has a **str** type (string of characters). To distinguish between a python ojbect name and a string of characters, the strings are delineated by either simple quotes (') or double quotes (\").\n",
    "\n",
    "The functions :\n",
    "- chr(a)  :  converts an integer (type int) into a single character string (type str)\n",
    "- ord('a')  :  converts the single character string 'A' into its corresponding ascii code (int)\n",
    "    "
   ]
  },
  {
   "cell_type": "code",
   "execution_count": 34,
   "metadata": {},
   "outputs": [
    {
     "name": "stdout",
     "output_type": "stream",
     "text": [
      "A <class 'str'>\n",
      "97 <class 'int'>\n"
     ]
    }
   ],
   "source": [
    "a = chr(65)\n",
    "print (a, type(a))\n",
    "b = ord('a')\n",
    "print (b, type(b))"
   ]
  },
  {
   "cell_type": "markdown",
   "metadata": {},
   "source": [
    "## Special characters\n",
    "\n",
    "Special characters are characters that have a specific meaning for the computer (actually, the PYTHON interpreter). They are often invisible and therefore they can cause trouble. Special characters are indicated uding a backslash in front \\. Two usefull characters of this type are :\n",
    "\n",
    "* the tabulation character \\t\n",
    "* the new line character \\n"
   ]
  },
  {
   "cell_type": "code",
   "execution_count": 35,
   "metadata": {},
   "outputs": [
    {
     "name": "stdout",
     "output_type": "stream",
     "text": [
      "il fait beau \n",
      " ... et chaud\n"
     ]
    }
   ],
   "source": [
    "line = \"il fait beau \\n ... et chaud\"\n",
    "print(line)"
   ]
  },
  {
   "cell_type": "markdown",
   "metadata": {},
   "source": [
    "## String modifications\n",
    "\n",
    "A string is a \"non-mutable\" object, meaning that it is not possible to change one or several letters within the string. If a string has to be changed, a new string (str object) has to be defined. \n",
    "However, it is possible to extract very easily parts of the strings using the **rank** of the letter within the string. Importantly, **the rank starts at 0**. This means that the last character of a string of length N has a rank of (N-1).\n",
    "\n",
    "## Extracting a substring from a character string\n",
    "\n",
    "The operator \\[first:last\\] allows to extract a substring starting at rank first (a integer number) and ending at rank (last-1). "
   ]
  },
  {
   "cell_type": "code",
   "execution_count": 36,
   "metadata": {},
   "outputs": [
    {
     "name": "stdout",
     "output_type": "stream",
     "text": [
      "<class 'str'> I said: \"hello ESBS ! Are you still ok ?\"\n",
      "!\n"
     ]
    }
   ],
   "source": [
    "hello = 'I said: \"hello ESBS ! Are you still ok ?\"'\n",
    "print(type(hello),hello)\n",
    "print(hello[20:21])\n",
    "# Which indexes should you indicate to get the word \"said\" ?"
   ]
  },
  {
   "cell_type": "markdown",
   "metadata": {},
   "source": [
    "## String operators\n",
    "\n",
    "The + and * symbols have different meanings when they are applied on strings compared to their effect on integers.  \n",
    "\n",
    "* \\+ is the **concatenation** operator (it merges two strings)\n",
    "* \\* allows to dupplicate a string many times\n"
   ]
  },
  {
   "cell_type": "code",
   "execution_count": 18,
   "metadata": {},
   "outputs": [
    {
     "name": "stdout",
     "output_type": "stream",
     "text": [
      " Il fait chaud et beau\n",
      "*******\n"
     ]
    }
   ],
   "source": [
    "test=\" Il fait chaud\"\n",
    "test2=\" et beau\"\n",
    "a = test+test2\n",
    "print(a)\n",
    "print('*'*7)"
   ]
  },
  {
   "cell_type": "markdown",
   "metadata": {},
   "source": [
    "#### Methods associated with strings\n",
    "\n",
    "They are many usefull methods allowing to work with strings. They can be discovered by the $dir()$ command. The complete list of methods can be found in the [PYTHON reference pages](https://docs.python.org/2/library/stdtypes.html#string-methods). \n",
    "\n",
    "##### Get the length of a string"
   ]
  },
  {
   "cell_type": "code",
   "execution_count": 5,
   "metadata": {
    "ExecuteTime": {
     "end_time": "2021-01-24T14:39:16.886309Z",
     "start_time": "2021-01-24T14:39:16.880571Z"
    }
   },
   "outputs": [
    {
     "name": "stdout",
     "output_type": "stream",
     "text": [
      "19\n"
     ]
    }
   ],
   "source": [
    "chaine=\"Un bout de ficelle!\"\n",
    "print (len(chaine))"
   ]
  },
  {
   "cell_type": "markdown",
   "metadata": {},
   "source": [
    "##### Change Uppercase/Lowercase"
   ]
  },
  {
   "cell_type": "code",
   "execution_count": 6,
   "metadata": {
    "ExecuteTime": {
     "end_time": "2021-01-24T14:39:24.515965Z",
     "start_time": "2021-01-24T14:39:24.508523Z"
    }
   },
   "outputs": [
    {
     "name": "stdout",
     "output_type": "stream",
     "text": [
      "PARAPLUIE\n"
     ]
    }
   ],
   "source": [
    "x=\"parapluie\"\n",
    "print(x.upper())\n",
    "#dir(x)"
   ]
  },
  {
   "cell_type": "markdown",
   "metadata": {},
   "source": [
    "##### Counting the occurence of a single character"
   ]
  },
  {
   "cell_type": "code",
   "execution_count": 20,
   "metadata": {
    "ExecuteTime": {
     "end_time": "2020-02-04T21:36:33.482722Z",
     "start_time": "2020-02-04T21:36:33.477485Z"
    }
   },
   "outputs": [
    {
     "name": "stdout",
     "output_type": "stream",
     "text": [
      "2\n"
     ]
    }
   ],
   "source": [
    "seq=\"GKWTYNGIYEGRWYTRGFSYY\"\n",
    "W=seq.count('W')\n",
    "print (W)"
   ]
  },
  {
   "cell_type": "markdown",
   "metadata": {},
   "source": [
    "##### Cutting a string into pieces"
   ]
  },
  {
   "cell_type": "code",
   "execution_count": 8,
   "metadata": {
    "ExecuteTime": {
     "end_time": "2020-02-12T07:27:33.008510Z",
     "start_time": "2020-02-12T07:27:33.002602Z"
    }
   },
   "outputs": [
    {
     "name": "stdout",
     "output_type": "stream",
     "text": [
      "<class 'list'>\n",
      "30\n"
     ]
    }
   ],
   "source": [
    "seq=\"Quelle belle coupe de cheveux!\"\n",
    "x = seq.split(' ')\n",
    "print (type(x))\n",
    "print (len(seq))"
   ]
  },
  {
   "cell_type": "markdown",
   "metadata": {},
   "source": [
    "@ You can complete your knowledge on character strings with the [French Swinnen course Chapter 10](https://python.developpez.com/cours/TutoSwinnen/?page=page_12#L10)\n",
    "\n",
    "## Conclusion of Notebook 1\n",
    "\n",
    "- The python simple objects are int, float for numbers and str for text\n",
    "- An object (sometime called variable) is identified by its name\n",
    "- The dir() command allows to see what is 'inside' the objects\n",
    "- Operators (+, -, \\*, /, =, ...)  performs operations between 2 objects (usually of the same type)\n",
    "- The = operator is called assignment operator and is used to assign a value to an object\n",
    "- Objects contains methods that could provide easy ways to transform or process the data "
   ]
  },
  {
   "cell_type": "code",
   "execution_count": null,
   "metadata": {},
   "outputs": [],
   "source": []
  }
 ],
 "metadata": {
  "anaconda-cloud": {},
  "kernelspec": {
   "display_name": "Python 3",
   "language": "python",
   "name": "python3"
  },
  "language_info": {
   "codemirror_mode": {
    "name": "ipython",
    "version": 3
   },
   "file_extension": ".py",
   "mimetype": "text/x-python",
   "name": "python",
   "nbconvert_exporter": "python",
   "pygments_lexer": "ipython3",
   "version": "3.7.3"
  },
  "nbTranslate": {
   "displayLangs": [
    "*"
   ],
   "hotkey": "alt-t",
   "langInMainMenu": true,
   "sourceLang": "en",
   "targetLang": "fr",
   "useGoogleTranslate": true
  },
  "toc": {
   "base_numbering": 1,
   "nav_menu": {
    "height": "344px",
    "width": "340px"
   },
   "number_sections": true,
   "sideBar": true,
   "skip_h1_title": false,
   "title_cell": "Table of Contents",
   "title_sidebar": "Contents",
   "toc_cell": false,
   "toc_position": {},
   "toc_section_display": true,
   "toc_window_display": false
  }
 },
 "nbformat": 4,
 "nbformat_minor": 1
}
