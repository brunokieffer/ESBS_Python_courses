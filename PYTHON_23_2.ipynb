{
 "cells": [
  {
   "cell_type": "markdown",
   "metadata": {},
   "source": [
    "<font size=\"+4\">\n",
    "    <CENTER>Data processing with Python </CENTER>\n",
    "</font>\n",
    "<hr>   \n",
    "<font size=\"+2\">\n",
    "    <CENTER> B. Kieffer ESBS 2022</CENTER>\n",
    "</font>\n",
    "<hr> \n",
    "<font size=\"+2\">\n",
    "    <CENTER> Notebook 2</CENTER>\n",
    "</font>\n",
    "\n"
   ]
  },
  {
   "cell_type": "markdown",
   "metadata": {},
   "source": [
    "# 3. The list"
   ]
  },
  {
   "cell_type": "markdown",
   "metadata": {},
   "source": [
    "One of the most useful PYTHON object is the class **list**. So far, we have seen python objects that correspond to a single piece of information (a number, a string of characters, a floating point number,...). What about the possibility to group several elements of information within a single object ? For instance, the temperature measurements performed every hour of a given day.\n",
    "\n",
    "The python object that allows to do this is the **list**. The list is a \"container\" that can contains as many python objects as you wish. These python objects (that could be integer numbers, strings, or even lists...) are listed by writing the names of these objects **in a defined order** within squared brackets. The elements of the list are separated by commas.\n",
    "\n",
    "> [object1, object2, ..., ojectN]\n",
    "\n",
    "The items within a list are ordered. We can find an element by giving its index (also called rank or position). The first element of a list has index 0 and the last element of a list of N elements has index N-1. The number of items in a list is given by the instruction **len** . The list is a relatively complex object that provides many methods for processing its elements, such as sorting ( **sort()** ) , adding an element at the end of the list ( **append()** ) , or merging two lists into a single one ( **extend()** ) .\n",
    "\n",
    "@ You can complete this topic with the [French Swinnen course Chapter 5.3](https://python.developpez.com/cours/TutoSwinnen/?page=page_7)\n",
    "\n",
    "A first way to create a list is to **split** a string into words as shown below:"
   ]
  },
  {
   "cell_type": "code",
   "execution_count": 7,
   "metadata": {
    "ExecuteTime": {
     "end_time": "2021-01-24T14:56:03.044023Z",
     "start_time": "2021-01-24T14:56:03.038075Z"
    }
   },
   "outputs": [
    {
     "name": "stdout",
     "output_type": "stream",
     "text": [
      "['I', 'need', 'an', 'interpreter']\n"
     ]
    }
   ],
   "source": [
    "phrase = \"I need an interpreter\"\n",
    "words = phrase.split()\n",
    "print(words)"
   ]
  },
  {
   "cell_type": "code",
   "execution_count": 2,
   "metadata": {},
   "outputs": [
    {
     "name": "stdout",
     "output_type": "stream",
     "text": [
      "['ATGGGCGCG', 'CGCGCTATATTA']\n"
     ]
    }
   ],
   "source": [
    "# The split method works as a restriction enzyme\n",
    "seq=\"ATGGGCGCGTTATCGCGCTATATTA\"\n",
    "enzyme = \"TTAT\"\n",
    "restrict = seq.split(enzyme)\n",
    "print(restrict)"
   ]
  },
  {
   "cell_type": "markdown",
   "metadata": {},
   "source": [
    "## Accessing the elements of a list \n",
    "\n",
    "The same operator used for strings works for lists. The element of rank i of a list named my_list is accessed using my_list[i]. The column allows to specify a range of elements within a list using the general synthax:\n",
    "my_list[i:j:k] : every k em element starting from i to j-1. "
   ]
  },
  {
   "cell_type": "code",
   "execution_count": 8,
   "metadata": {
    "ExecuteTime": {
     "end_time": "2021-01-24T14:56:59.259345Z",
     "start_time": "2021-01-24T14:56:59.252149Z"
    }
   },
   "outputs": [
    {
     "name": "stdout",
     "output_type": "stream",
     "text": [
      "['I', 'need', 'an', 'interpreter']\n",
      "['an', 'interpreter']\n",
      "['I', 'need', 'an']\n",
      "['I', 'an']\n"
     ]
    }
   ],
   "source": [
    "print(words)\n",
    "print(words[2:])\n",
    "print(words[:-1])\n",
    "print(words[::2])"
   ]
  },
  {
   "cell_type": "code",
   "execution_count": 7,
   "metadata": {},
   "outputs": [
    {
     "name": "stdout",
     "output_type": "stream",
     "text": [
      "['I', 'need', 'an', 'interpreter']\n",
      "['I', 'need', 'the', 'interpreter']\n"
     ]
    }
   ],
   "source": [
    "# Each element of a list can be changed \n",
    "phrase = \"I need an interpreter\"\n",
    "words = phrase.split()\n",
    "print(words)\n",
    "words[2] = 'the'\n",
    "print(words)"
   ]
  },
  {
   "cell_type": "markdown",
   "metadata": {},
   "source": [
    "The **append()** method allows to add an element to the end of a list. \n",
    "\n",
    "The **pop()** method does the opposite and remove the last element of the list."
   ]
  },
  {
   "cell_type": "code",
   "execution_count": 12,
   "metadata": {
    "ExecuteTime": {
     "end_time": "2021-01-24T14:57:37.480809Z",
     "start_time": "2021-01-24T14:57:37.473802Z"
    }
   },
   "outputs": [
    {
     "name": "stdout",
     "output_type": "stream",
     "text": [
      "['I', 'need', 'an', 'interpreter', 'and', 'quickly']\n",
      "['quickly', 'need', 'interpreter', 'hahahah', 'and', 'an', 'I']\n"
     ]
    }
   ],
   "source": [
    "words = \"I need an interpreter\".split()\n",
    "words.append('and')\n",
    "words.append('quickly')\n",
    "print (words)\n",
    "words.sort()\n",
    "words.append('hahahah')\n",
    "words.sort(reverse=True)\n",
    "print (words)"
   ]
  },
  {
   "cell_type": "markdown",
   "metadata": {},
   "source": [
    "There are a number of useful methods to work with lists. The most important one are :  \n",
    " \n",
    " * sort()   \n",
    " * reverse()  \n",
    " \n",
    "try to find out what they are doing.  \n",
    "\n",
    "Note: It is possible to change an element (or several elements) of a list using the assignment operator (=). This is not possible for character strings (we say a list is a mutable object, a string is not)."
   ]
  },
  {
   "cell_type": "code",
   "execution_count": 3,
   "metadata": {
    "ExecuteTime": {
     "end_time": "2021-01-24T15:07:30.915747Z",
     "start_time": "2021-01-24T15:07:30.903341Z"
    }
   },
   "outputs": [
    {
     "ename": "TypeError",
     "evalue": "'str' object does not support item assignment",
     "output_type": "error",
     "traceback": [
      "\u001b[0;31m---------------------------------------------------------------------------\u001b[0m",
      "\u001b[0;31mTypeError\u001b[0m                                 Traceback (most recent call last)",
      "\u001b[0;32m<ipython-input-3-a4f29080dac7>\u001b[0m in \u001b[0;36m<module>\u001b[0;34m\u001b[0m\n\u001b[1;32m      1\u001b[0m \u001b[0;31m# The following statement won't work...hopfully\u001b[0m\u001b[0;34m\u001b[0m\u001b[0;34m\u001b[0m\u001b[0;34m\u001b[0m\u001b[0m\n\u001b[1;32m      2\u001b[0m \u001b[0ma\u001b[0m \u001b[0;34m=\u001b[0m \u001b[0;34m\"la soupe est bonne !\"\u001b[0m\u001b[0;34m\u001b[0m\u001b[0;34m\u001b[0m\u001b[0m\n\u001b[0;32m----> 3\u001b[0;31m \u001b[0ma\u001b[0m\u001b[0;34m[\u001b[0m\u001b[0;36m13\u001b[0m\u001b[0;34m]\u001b[0m \u001b[0;34m=\u001b[0m \u001b[0;34m'c'\u001b[0m\u001b[0;34m\u001b[0m\u001b[0;34m\u001b[0m\u001b[0m\n\u001b[0m",
      "\u001b[0;31mTypeError\u001b[0m: 'str' object does not support item assignment"
     ]
    }
   ],
   "source": [
    "# The following statement won't work...hopfully\n",
    "a = \"la soupe est bonne !\"\n",
    "a[13] = 'c'\n"
   ]
  },
  {
   "cell_type": "code",
   "execution_count": 6,
   "metadata": {},
   "outputs": [
    {
     "name": "stdout",
     "output_type": "stream",
     "text": [
      "la soupe est conne !\n"
     ]
    }
   ],
   "source": [
    "# But the list element allows the change\n",
    "b=list(a) # We first change the string into a list\n",
    "b[13] = 'c' # This is now allowed\n",
    "\n",
    "# The following line converts the list of characters back into a string\n",
    "c = str().join(b)\n",
    "print(c)"
   ]
  },
  {
   "cell_type": "markdown",
   "metadata": {},
   "source": [
    "Try to find out What are doing the following methods ?\n",
    "\n",
    "* insert()\n",
    "* index()"
   ]
  },
  {
   "cell_type": "code",
   "execution_count": 9,
   "metadata": {
    "ExecuteTime": {
     "end_time": "2020-02-04T21:51:53.394515Z",
     "start_time": "2020-02-04T21:51:53.387161Z"
    }
   },
   "outputs": [
    {
     "name": "stdout",
     "output_type": "stream",
     "text": [
      "['il', 'me', 'faut', 'rapidement', 'rapidement', 'rapidement', 'un', 'interprete', 'et']\n",
      "3\n"
     ]
    }
   ],
   "source": [
    "words.insert(3,'rapidement')\n",
    "print(words)\n",
    "print (words.index('rapidement'))"
   ]
  },
  {
   "cell_type": "markdown",
   "metadata": {},
   "source": [
    "# 4. Working step by step: the for statement"
   ]
  },
  {
   "cell_type": "markdown",
   "metadata": {},
   "source": [
    "The following chapter introduces Python commands that are controlling the way other command are operating. They are relevant for programming purposes. \n",
    "\n",
    "@ You can complete this topic with the [French Swinnen course Chapter 3](https://python.developpez.com/cours/TutoSwinnen/?page=page_5)\n",
    "\n",
    "Data processing consist in taking elementary piece of information, one by one in order to perform some calculations or treatments on every piece until all elements to be processed have gone through the process. The elements to be processed are contained in a python list and the **for** statement allows to take each individual element of this list, **one by one**. The individual elements of the list are temporarly stored in a variable (object).\n",
    "\n",
    "The process that consists in taking, one by one, every elements of a list is called **iteration**.\n",
    "The iteration is a very important concept for computers languages. It allows to perform repetitive tasks on a large number of data, one after another. The general synthax of a for loop is :  "
   ]
  },
  {
   "cell_type": "raw",
   "metadata": {},
   "source": [
    "for element in iterable-object:  \n",
    "    instruction 1  \n",
    "    instruction 2  \n",
    "instruction 3"
   ]
  },
  {
   "cell_type": "markdown",
   "metadata": {},
   "source": [
    "instructions 1 and 2 will be executed for each individual element of the iterable-object while instruction 3 will only be executed once. We say that the execution of instructions 1 and 2 are under control of the **for** statement, and this is shown **by indenting** the commands that should be under control, relatively to the control statement (usually by four spaces characters). A control statement is indicated by a column character (:).\n",
    "\n",
    "There are many objects that contains an iterator, that is, are able to provide the for statement with individual objects. The most natural one is the list. "
   ]
  },
  {
   "cell_type": "code",
   "execution_count": 7,
   "metadata": {
    "ExecuteTime": {
     "end_time": "2020-02-12T08:33:40.636515Z",
     "start_time": "2020-02-12T08:33:40.630587Z"
    }
   },
   "outputs": [
    {
     "name": "stdout",
     "output_type": "stream",
     "text": [
      "Anne\n",
      "Amelie\n",
      "Charlotte\n",
      "Guy\n",
      "Charles\n",
      "Romain\n"
     ]
    }
   ],
   "source": [
    "names = [\"anne\", \"amelie\", \"charlotte\", \"guy\", \"charles\", \"romain\"]\n",
    "for n in names:\n",
    "    print(n.capitalize())"
   ]
  },
  {
   "cell_type": "markdown",
   "metadata": {},
   "source": [
    "## Exercise:\n",
    "\n",
    "Based on the previous example, try to build a new list that contains all names capitalized."
   ]
  },
  {
   "cell_type": "code",
   "execution_count": 8,
   "metadata": {},
   "outputs": [],
   "source": [
    "# Answer:\n",
    "names = [\"anne\", \"amelie\", \"charlotte\", \"guy\", \"charles\", \"romain\"]\n"
   ]
  },
  {
   "cell_type": "markdown",
   "metadata": {},
   "source": [
    "They are many iterable objects in python. The first we will see is the string, which is composed of at least one character. If the iterable object is a string of characters, the number of times the for loop will execute corresponds to the number of characters present in the string. the object element will contain successively each single character of the string."
   ]
  },
  {
   "cell_type": "code",
   "execution_count": 9,
   "metadata": {},
   "outputs": [
    {
     "name": "stdout",
     "output_type": "stream",
     "text": [
      "dlrow olleH\n"
     ]
    }
   ],
   "source": [
    "# Why is the b sentence written in reverse order ?\n",
    "a=\"Hello world\"\n",
    "b=\"\"\n",
    "for char in a:\n",
    "    b=char+b\n",
    "print(b)"
   ]
  },
  {
   "cell_type": "markdown",
   "metadata": {},
   "source": [
    "## Working with lists of numbers\n",
    "\n",
    "Sometime, it is needed to work with lists of numbers, for instance if you want to print the multiplication tables. For this purpose, Python provides iterators objects. The **range(start,end,step)** function, for instance, creates of a list of integer numbers from start to end - 1. step is the difference between two sequential integer (default value of step is 1). \n",
    "\n",
    "The multiple of 5 are given by:"
   ]
  },
  {
   "cell_type": "code",
   "execution_count": 33,
   "metadata": {
    "ExecuteTime": {
     "end_time": "2021-01-24T15:28:41.840238Z",
     "start_time": "2021-01-24T15:28:41.828385Z"
    }
   },
   "outputs": [
    {
     "name": "stdout",
     "output_type": "stream",
     "text": [
      "1 x 5 =  5\n",
      "2 x 5 =  10\n",
      "3 x 5 =  15\n",
      "4 x 5 =  20\n",
      "5 x 5 =  25\n",
      "6 x 5 =  30\n",
      "7 x 5 =  35\n",
      "8 x 5 =  40\n",
      "9 x 5 =  45\n",
      "10 x 5 =  50\n"
     ]
    }
   ],
   "source": [
    "for number in range(1,11):\n",
    "    print(number, \"x 5 = \",number*5)"
   ]
  },
  {
   "cell_type": "markdown",
   "metadata": {},
   "source": [
    "# 5. Powerful objects: Dictionaries\n",
    "\n",
    "In a previous chapter, we have seen the lists and tuples, that are powerful ways to store data of any kind . These data (objects) can be retrieved using their **rank**, which is their position in the list. The rank is the key to find the corresponding element. PYTHON extends this concept to the dictionaries, allowing the use of different types of keys such as letters, words (strings), non - consecutive integers . This extensive list is called a **dictionary** and uses the {} characters to be distinguished from the lists. Dictionaries provide sophisticated and rapid methods to retrieve an item from a key, list all the keys , values etc...\n",
    "\n",
    "The structure of a dictionary is :\n",
    "\n",
    "    mon_dico = {clef_1 : value1 , clef_2 : value_2 , clef_N : value_n }\n",
    "\n",
    "the value corresponding to a key is given by:\n",
    "\n",
    "    mon_dico [key ]\n",
    "\n",
    "Dictionaries offers a convenient way to handle large amounts of data."
   ]
  },
  {
   "cell_type": "code",
   "execution_count": 1,
   "metadata": {},
   "outputs": [
    {
     "name": "stdout",
     "output_type": "stream",
     "text": [
      "ATGCGCGTATTATATTAGCG\n",
      "TACGCGCATAATATAATCGC\n"
     ]
    }
   ],
   "source": [
    "# A more elegent way to compute a DNA complementary sequence \n",
    "strand = \"ATGCGCGTATTATATTAGCG\"\n",
    "base_comp = {\"A\" : \"T\", \"T\" : \"A\", \"C\" : \"G\", \"G\" : \"C\"}\n",
    "cstrand = \"\"\n",
    "for b in strand:\n",
    "    cstrand = cstrand + base_comp[b]\n",
    "print(strand)\n",
    "print (cstrand)"
   ]
  },
  {
   "cell_type": "markdown",
   "metadata": {
    "collapsed": true
   },
   "source": [
    "## Manipulating dictionaries\n",
    "\n",
    "Below is shown how we can get the list of keys and values from a dictionary"
   ]
  },
  {
   "cell_type": "code",
   "execution_count": 10,
   "metadata": {},
   "outputs": [],
   "source": [
    "gcode = {\"TTT\":\"F\",\"TTC\":\"F\",\"TTA\":\"L\",\"TTG\":\"L\",\"TCT\":\"S\",\"TCC\":\"S\",\n",
    "\t\"TCA\":\"S\",\"TCG\":\"S\",\"TAT\":\"Y\",\"TAC\":\"Y\",\"TAA\":\"*\",\"TAG\":\"*\",\n",
    "\t\"TGT\":\"C\",\"TGC\":\"C\",\"TGA\":\"*\",\"TGG\":\"W\",\"CTT\":\"L\",\"CTC\":\"L\",\n",
    "\t\"CTA\":\"L\",\"CTG\":\"L\",\"CCT\":\"P\",\"CCC\":\"P\",\"CCA\":\"P\",\"CCG\":\"P\",\n",
    "\t\"CAT\":\"H\",\"CAC\":\"H\",\"CAA\":\"Q\",\"CAG\":\"Q\",\"CGT\":\"R\",\"CGC\":\"R\",\n",
    "\t\"CGA\":\"R\",\"CGG\":\"R\",\"ATT\":\"I\",\"ATC\":\"I\",\"ATA\":\"I\",\"ATG\":\"M\",\n",
    "\t\"ACT\":\"T\",\"ACC\":\"T\",\"ACA\":\"T\",\"ACG\":\"T\",\"AAT\":\"N\",\"AAC\":\"N\",\n",
    "\t\"AAA\":\"K\",\"AAG\":\"K\",\"AGT\":\"S\",\"AGC\":\"S\",\"AGA\":\"R\",\"AGG\":\"R\",\n",
    "\t\"GTT\":\"V\",\"GTC\":\"V\",\"GTA\":\"V\",\"GTG\":\"V\",\"GCT\":\"A\",\"GCC\":\"A\",\n",
    "\t\"GCA\":\"A\",\"GCG\":\"A\",\"GAT\":\"D\",\"GAC\":\"D\",\"GAA\":\"E\",\"GAG\":\"E\",\n",
    "\t\"GGT\":\"G\",\"GGC\":\"G\",\"GGA\":\"G\",\"GGG\":\"G\"}\n"
   ]
  },
  {
   "cell_type": "code",
   "execution_count": 17,
   "metadata": {},
   "outputs": [
    {
     "name": "stdout",
     "output_type": "stream",
     "text": [
      "MIELHRVIYHRIE*\n"
     ]
    }
   ],
   "source": [
    "dna = \"ATGATTGAGCTGCATCGAGTCATCTACCATCGGATTGAGTAA\"\n",
    "protein = \"\"\n",
    "for position in range(0,len(dna),3):\n",
    "    codon = dna[position:position+3]\n",
    "    protein = protein + gcode[codon]\n",
    "    \n",
    "print (protein)\n",
    "    \n",
    "    "
   ]
  },
  {
   "cell_type": "markdown",
   "metadata": {},
   "source": [
    "### Question\n",
    "\n",
    "Is it possible to build a reverse genetic dictionary with the amino-acids as keys and codons as values ?"
   ]
  },
  {
   "cell_type": "code",
   "execution_count": null,
   "metadata": {},
   "outputs": [],
   "source": [
    "# Answer\n",
    "\n",
    "icode = {}\n",
    "for k in gcode:\n",
    "    aa = gcode[k]\n",
    "    if aa in icode:\n",
    "        icode[aa].append(k)\n",
    "    else:\n",
    "        icode[aa] = [k]"
   ]
  },
  {
   "cell_type": "markdown",
   "metadata": {},
   "source": [
    "## Building dictionaries\n",
    "\n",
    "Dictionaries can be built by several ways. The genetic code above (a simple dictionary) is built explicitly by writing the key : values couples. The lists of keys and corresponding values can also be used to build a dictionary.\n",
    "\n",
    "In the example below, the function **zip()** is used to merge the elements of two lists into a single one. The two elements that corresponds to a given rank are stored as a **tuple**. A tuple shares many similar features with the list, but it is a **non-mutable** object."
   ]
  },
  {
   "cell_type": "code",
   "execution_count": 53,
   "metadata": {},
   "outputs": [
    {
     "data": {
      "text/plain": [
       "{'A': 'ALA',\n",
       " 'C': 'CYS',\n",
       " 'E': 'GLU',\n",
       " 'D': 'ASP',\n",
       " 'G': 'GLY',\n",
       " 'F': 'PHE',\n",
       " 'I': 'ILE',\n",
       " 'H': 'HIS',\n",
       " 'K': 'LYS',\n",
       " 'M': 'MET',\n",
       " 'L': 'LEU',\n",
       " 'N': 'ASN',\n",
       " 'Q': 'GLN',\n",
       " 'P': 'PRO',\n",
       " 'S': 'SER',\n",
       " 'R': 'ARG',\n",
       " 'T': 'THR',\n",
       " 'W': 'TRP',\n",
       " 'V': 'VAL',\n",
       " 'Y': 'TYR'}"
      ]
     },
     "execution_count": 53,
     "metadata": {},
     "output_type": "execute_result"
    }
   ],
   "source": [
    "aa1 = ['A', 'C', 'E', 'D', 'G', 'F', 'I', 'H', 'K', 'M', 'L', 'N', 'Q', 'P', 'S', 'R', 'T', 'W', 'V', 'Y']\n",
    "aa3 = ['ALA','CYS','GLU','ASP','GLY','PHE','ILE','HIS','LYS','MET','LEU','ASN','GLN','PRO','SER','ARG',\n",
    "       'THR', 'TRP', 'VAL', 'TYR']\n",
    "tmp = zip(aa1,aa3)\n",
    "dtmp = dict(tmp)\n",
    "dtmp"
   ]
  },
  {
   "cell_type": "markdown",
   "metadata": {},
   "source": [
    "The **for** statement is working also on dictionaries (dict are iterable objects). The for statement provides sequentially all the keys present in the dictionary."
   ]
  },
  {
   "cell_type": "code",
   "execution_count": 20,
   "metadata": {},
   "outputs": [
    {
     "name": "stdout",
     "output_type": "stream",
     "text": [
      "A  >  ALA\n",
      "C  >  CYS\n",
      "E  >  GLU\n",
      "D  >  ASP\n",
      "G  >  GLY\n",
      "F  >  PHE\n",
      "I  >  ILE\n",
      "H  >  HIS\n",
      "K  >  LYS\n",
      "M  >  MET\n",
      "L  >  LEU\n",
      "N  >  ASN\n",
      "Q  >  GLN\n",
      "P  >  PRO\n",
      "S  >  SER\n",
      "R  >  ARG\n",
      "T  >  THR\n",
      "W  >  TRP\n",
      "V  >  VAL\n",
      "Y  >  TYR\n"
     ]
    }
   ],
   "source": [
    "for aa in code1aa:\n",
    "    print (aa,' > ',code1a[aa])"
   ]
  },
  {
   "cell_type": "markdown",
   "metadata": {
    "ExecuteTime": {
     "end_time": "2021-01-24T15:24:58.995929Z",
     "start_time": "2021-01-24T15:24:58.992317Z"
    },
    "collapsed": true
   },
   "source": [
    "@ Dictionaries are presented in [French Swinnen course Chapter 10.4](https://python.developpez.com/cours/TutoSwinnen/?page=page_12#L10-4)\n",
    "\n",
    "# Conclusion of Notebook 2\n",
    "\n",
    "- The list is an object that contains other objects (we called this a container)\n",
    "- The elements in a list can be accessed according their rank (first, third, .. last)\n",
    "- The range() function allows to create a list of sequential numbers\n",
    "- The dictionary is a sophisticated object that associates a key with a value"
   ]
  },
  {
   "cell_type": "code",
   "execution_count": null,
   "metadata": {},
   "outputs": [],
   "source": []
  }
 ],
 "metadata": {
  "anaconda-cloud": {},
  "kernelspec": {
   "display_name": "Python 3",
   "language": "python",
   "name": "python3"
  },
  "language_info": {
   "codemirror_mode": {
    "name": "ipython",
    "version": 3
   },
   "file_extension": ".py",
   "mimetype": "text/x-python",
   "name": "python",
   "nbconvert_exporter": "python",
   "pygments_lexer": "ipython3",
   "version": "3.7.3"
  },
  "nbTranslate": {
   "displayLangs": [
    "*"
   ],
   "hotkey": "alt-t",
   "langInMainMenu": true,
   "sourceLang": "en",
   "targetLang": "fr",
   "useGoogleTranslate": true
  },
  "toc": {
   "base_numbering": 1,
   "nav_menu": {
    "height": "261px",
    "width": "316px"
   },
   "number_sections": true,
   "sideBar": true,
   "skip_h1_title": false,
   "title_cell": "Table of Contents",
   "title_sidebar": "Contents",
   "toc_cell": false,
   "toc_position": {},
   "toc_section_display": true,
   "toc_window_display": false
  }
 },
 "nbformat": 4,
 "nbformat_minor": 1
}
