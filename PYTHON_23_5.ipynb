{
 "cells": [
  {
   "cell_type": "markdown",
   "metadata": {},
   "source": [
    "<font size=\"+4\">\n",
    "    <CENTER>Data processing with Python </CENTER>\n",
    "</font>\n",
    "<hr>   \n",
    "<font size=\"+2\">\n",
    "    <CENTER> B. Kieffer ESBS 2022</CENTER>\n",
    "</font>\n",
    "<hr>   \n",
    "<font size=\"+2\">\n",
    "    <CENTER> Notebook 5</CENTER>\n",
    "</font>\n",
    "\n"
   ]
  },
  {
   "cell_type": "markdown",
   "metadata": {},
   "source": [
    "# 10. Input/Output\n",
    "\n",
    "We have seen a number of data types, methods associated with objects and statements such as if or while loops that allows to elaborate various data processing tasks. We now need to adress the mechanisms by which data are fed to these Python objects. If only very few informations are needed, this can be done by entering some values using the keyboard of the computer. Usually, data are  stored in files on the file system of your computer. At last, the data may be located remotely and can be made accessible by the internet network. \n",
    "\n",
    "## Entering a value using the keyboard\n",
    "\n",
    "A string of characters can be entered into a string object using the input() function. Note that the type has to be adapted to the subsequent needs (is a calculation has to be done, the string should be converted into a int or a float number). "
   ]
  },
  {
   "cell_type": "code",
   "execution_count": 1,
   "metadata": {},
   "outputs": [
    {
     "name": "stdout",
     "output_type": "stream",
     "text": [
      "Enter a value 14\n"
     ]
    },
    {
     "data": {
      "text/plain": [
       "str"
      ]
     },
     "execution_count": 1,
     "metadata": {},
     "output_type": "execute_result"
    }
   ],
   "source": [
    "txt = input(\"Enter a value \")\n",
    "type(txt)\n",
    "#txtf = float(txt)\n",
    "val = int(txtf) # Change the type of the object to perform calculations\n",
    "#print(\"The square of {:d} is {:d}\".format(val,val**2))"
   ]
  },
  {
   "cell_type": "markdown",
   "metadata": {},
   "source": [
    "### Exercise\n",
    "Modify the script above to read integer values until the user hit the return key without entering a number (returning an empty string). The script should return the mean of the entered numbers.\n",
    "\n",
    "## Reading values from a file\n",
    "The files on a computer file system are characterized by a name, a path (that is the sequence of folder and sub-folder names to open until the file is found) and a format. Two types of formats have to be considered:\n",
    "\n",
    "        * text formats : the file contains a serie of characters \n",
    "                            (usually these files have the postfix .txt)\n",
    "        * binary formats : the file contains bytes that have to be interpreted as numbers\n",
    "                            Example of binary file format are .wave, .jpeg, ...\n",
    "        \n",
    "In the following, we will only address the mechanism to read and write text files, as these are widely used in Biology. A file is addressed using the open() function which takes two parameters, the file name (including the path) and a string that specifies the access mode. The general synthax is as follow:\n"
   ]
  },
  {
   "cell_type": "raw",
   "metadata": {},
   "source": [
    "my_file = open(filename_string,file_type_string)\n",
    "all_lines = my_file.readlines()\n",
    "my_file.close()"
   ]
  },
  {
   "cell_type": "markdown",
   "metadata": {},
   "source": [
    "The statements above show how to open a file and read all the lines into a list of characters string (all_lines). the filename string is a character string that contains the name of the file, including the path (optionnal). The file_type_string specify the type of access and data:  \n",
    "  \n",
    "* \"r\" : read-only a text file  \n",
    "* \"a\" : append new lines to the end of an existing file  \n",
    "* \"w\" : write mode with creation of a new file  \n",
    "\n",
    "### Question:\n",
    "    - What is the type of the objects my_file and all_lines ?\n",
    "    - What are the other methods of my_file ?\n",
    "    - What is doing the close() method ? Why is it needed ? \n",
    "    \n",
    "## Reading a DNA sequence file\n",
    "\n",
    "To experience file I/O, we will fetch a file from the [genome server at EBI](http://www.ebi.ac.uk/genomes/). As an exemple we will use the Klebsiella pneumoniae strain XH209 full genome (entry CP009461). The format of the sequence is fasta. The first line describes the entry and is indicated by a > character:   \n",
    "   \n",
    ">\\> ENA|CP009461|CP009461.1 Klebsiella pneumoniae strain XH209, complete genome   \n",
    "GTCAGCAACGGCCCGCGGGGCGAGCCACGAAGTGGTGAGTCATCCTCTATCACCGACCAA\n",
    "ATTCGAAAAGCCTGCTCAATGAGCAGGCTTTTTTGCATCTGGGGCCTGCGAGGAAGAGAA\n",
    "\n"
   ]
  },
  {
   "cell_type": "code",
   "execution_count": 12,
   "metadata": {
    "ExecuteTime": {
     "end_time": "2021-03-07T20:59:07.170521Z",
     "start_time": "2021-03-07T20:59:07.135568Z"
    }
   },
   "outputs": [],
   "source": [
    "path = \"../Python_2020/\"\n",
    "name = \"CP009461.fasta\"\n",
    "file_name = path+name\n",
    "kpgen = open(file_name,\"r\")\n",
    "all_lines = kpgen.readlines()\n",
    "kpgen.close()"
   ]
  },
  {
   "cell_type": "code",
   "execution_count": 14,
   "metadata": {},
   "outputs": [
    {
     "name": "stdout",
     "output_type": "stream",
     "text": [
      ">ENA|CP009461|CP009461.1 Klebsiella pneumoniae strain XH209, complete genome. \n",
      "\n"
     ]
    }
   ],
   "source": [
    "print(all_lines[0])"
   ]
  },
  {
   "cell_type": "markdown",
   "metadata": {},
   "source": [
    "### Exercise:\n",
    "    - Try to find the genome of Klebsiella in the NCBI (american) genome server and save it on your computer at the proper location and in the right format.\n",
    "    - Use the lines above to concatenate all bases (characters) into a sinlge string object and count the number of characters.\n",
    "    - Report the respective numbers of the four bases A, T, G and C.\n",
    "    \n",
    "An alternate synthax to open and read the content of a file is presented below:"
   ]
  },
  {
   "cell_type": "code",
   "execution_count": 4,
   "metadata": {
    "ExecuteTime": {
     "end_time": "2021-03-07T21:04:40.614699Z",
     "start_time": "2021-03-07T21:04:40.535667Z"
    }
   },
   "outputs": [
    {
     "name": "stdout",
     "output_type": "stream",
     "text": [
      "Ratio of GC content in Klebsellia genome: 56.7 %\n"
     ]
    }
   ],
   "source": [
    "path = \"../Python_2020/\"\n",
    "name = \"CP009461.fasta\"\n",
    "file_name = path+name\n",
    "\n",
    "# Read all lines from the file\n",
    "with open(file_name,\"r\") as kpgen:\n",
    "    all_lines = kpgen.readlines()\n",
    "\n",
    "# Concatenate all lines into a single string to perform statistics\n",
    "klebs = \"\"\n",
    "for l in all_lines[1:]:\n",
    "    klebs+=l\n",
    "\n",
    "gc_ratio = 100*(klebs.count('G')+klebs.count('C'))/len(klebs)\n",
    "print (\"Ratio of GC content in Klebsellia genome: {:4.1f} %\".format(gc_ratio))\n"
   ]
  },
  {
   "cell_type": "markdown",
   "metadata": {},
   "source": [
    "@ More information on the files can be found in French in the [Swinnen course](https://python.developpez.com/cours/TutoSwinnen/?page=page_11#L9)\n",
    "\n",
    "### Interacting with the computer file system\n",
    "\n",
    "When you work on your computer, you interact with the file system through the user-friendly interface allowing to sort the files, to classify them into folders and sub-folders. The hierarchical ordering of the files is presented through a window system. In Linux, this hierarchical organization appears as a path that enumerates all successive folders that one need to open before the final document (file) could be opened. The separator character / is separating all folder names.\n",
    "\n",
    "All Linux or Windows commands that allows to browse through a file system are accessible through a module named **os**. The [os module](https://docs.python.org/3/library/os.html)  allows automatizing data manipulation in a very efficient way, but is very dangerous, since bad programming could lead to data losses. Below, we illustrate how the Python program can get the current directory and get the list of files present in this directory. \n"
   ]
  },
  {
   "cell_type": "code",
   "execution_count": 14,
   "metadata": {
    "ExecuteTime": {
     "end_time": "2021-03-07T21:08:23.325083Z",
     "start_time": "2021-03-07T21:08:23.307920Z"
    }
   },
   "outputs": [
    {
     "name": "stdout",
     "output_type": "stream",
     "text": [
      "['PYTHON_21_6_NUMPY_work.ipynb', 'PYTHON_22_4.html', '.DS_Store', 'PYTHON_22_5.html', 'TYR2.csv', 'PY_ESBS_TD1.ipynb', 'Untitled.ipynb', 'PYTHON_22_2.html', 'PHE2.csv', 'GCF_000240185.1_ASM24018v2_genomic.fna', 'plq1.csv', 'TRP2.csv', 'PYTHON_22_3.html', 'PYTHON_22_6.ipynb', 'prog_Python_2022.rtf', 'power.csv', 'PYTHON_22_4.ipynb', 'PYTHON_22_1.html', 'PYTHON_22_1_work.ipynb', 'PYTHON_22_2.ipynb', '.ipynb_checkpoints', 'PYTHON_22_5.ipynb', 'PYTHON_22_6.html', 'PYTHON_22_3.ipynb', 'PYTHON_22_1.ipynb', 'plq1.xls']\n"
     ]
    }
   ],
   "source": [
    "import os # Import the os module\n",
    "\n",
    "my_path = os.getcwd() # get the currend directory (equivalent to the linux command pwd)\n",
    "print(os.listdir())"
   ]
  },
  {
   "cell_type": "markdown",
   "metadata": {},
   "source": [
    "## Writing files\n",
    "\n",
    "We have seen how to import data in Python object for processing. Let's see how to create a text file that will contain a text, as a result of a processing. Here we want to write the sequence of Klebsiella with lower case characters."
   ]
  },
  {
   "cell_type": "code",
   "execution_count": 21,
   "metadata": {
    "ExecuteTime": {
     "end_time": "2021-03-07T21:20:10.953850Z",
     "start_time": "2021-03-07T21:20:10.871680Z"
    }
   },
   "outputs": [],
   "source": [
    "# Write the resulting string in a text file\n",
    "\n",
    "with open(\"Klebsiella_low.seq\",\"w\") as kfile:\n",
    "    kfile.write(\"> 'Klebsiella genome  \\n\")\n",
    "    for i in range(int(len(kps)/80)+1):\n",
    "        kfile.write(kps[i*80:(i+1)*80].lower())\n",
    "        kfile.write('\\n')\n"
   ]
  },
  {
   "cell_type": "markdown",
   "metadata": {
    "ExecuteTime": {
     "end_time": "2020-03-08T16:51:42.420125Z",
     "start_time": "2020-03-08T16:51:42.292221Z"
    }
   },
   "source": [
    "## Exchanging tabulated data with excel\n",
    "\n",
    "It is frequent to have information as a text file structured as a table. The line are separated by a 'new line' character, and the columns are separated by a comma, or a tab or a semi-column character. This structure is identified with the extension .csv (for comma separated variables) and provides a convenient way to exchange data between excel (that is useful to present data) and a Python script (that is powerful to make some calculations)."
   ]
  },
  {
   "cell_type": "code",
   "execution_count": 5,
   "metadata": {
    "ExecuteTime": {
     "end_time": "2021-03-07T21:39:15.877302Z",
     "start_time": "2021-03-07T21:39:15.870024Z"
    }
   },
   "outputs": [
    {
     "name": "stdout",
     "output_type": "stream",
     "text": [
      "heure;temperature\n",
      "\n",
      "12;6\n",
      "\n",
      "14;7\n",
      "\n",
      "16;6\n",
      "\n",
      "18;5\n",
      "\n",
      "20;4\n",
      "\n",
      "22;3\n",
      "\n",
      "0;1\n"
     ]
    }
   ],
   "source": [
    "# This script reads a .csv file created by excel\n",
    "\n",
    "def read_data (fname = \"temperatures.csv\"):\n",
    "    with open(fname,\"r\") as f:\n",
    "        all_lines = f.readlines()\n",
    "    return all_lines\n",
    "\n",
    "lines = read_data()\n",
    "for l in lines:\n",
    "    print(l)"
   ]
  },
  {
   "cell_type": "markdown",
   "metadata": {},
   "source": [
    "### Exercise\n",
    "\n",
    "    - Modify the first script that reads an Excel file to get a dictionary as a result. The keys of the dictionnary should be the Excel coordinates of the different cells (exp {'A1': 12, 'A2':32 ...}).\n",
    "    \n",
    "## Conclusions\n",
    "\n",
    "- Files on the computer can be accessed using the open() function\n",
    "- The open() function returns an object whose methods allows to read and write in the file\n",
    "- The os library provides access to the informations of the computer file system\n",
    "- The .csv files are useful to exchange data between excel and python in both ways "
   ]
  },
  {
   "cell_type": "code",
   "execution_count": null,
   "metadata": {},
   "outputs": [],
   "source": []
  }
 ],
 "metadata": {
  "anaconda-cloud": {},
  "kernelspec": {
   "display_name": "Python 3",
   "language": "python",
   "name": "python3"
  },
  "language_info": {
   "codemirror_mode": {
    "name": "ipython",
    "version": 3
   },
   "file_extension": ".py",
   "mimetype": "text/x-python",
   "name": "python",
   "nbconvert_exporter": "python",
   "pygments_lexer": "ipython3",
   "version": "3.7.3"
  },
  "nbTranslate": {
   "displayLangs": [
    "*"
   ],
   "hotkey": "alt-t",
   "langInMainMenu": true,
   "sourceLang": "en",
   "targetLang": "fr",
   "useGoogleTranslate": true
  },
  "toc": {
   "base_numbering": 1,
   "nav_menu": {},
   "number_sections": false,
   "sideBar": true,
   "skip_h1_title": false,
   "title_cell": "Table of Contents",
   "title_sidebar": "Contents",
   "toc_cell": false,
   "toc_position": {},
   "toc_section_display": true,
   "toc_window_display": false
  }
 },
 "nbformat": 4,
 "nbformat_minor": 1
}
